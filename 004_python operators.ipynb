{
 "cells": [
  {
   "cell_type": "code",
   "execution_count": 1,
   "metadata": {},
   "outputs": [
    {
     "name": "stdout",
     "output_type": "stream",
     "text": [
      "-34\n",
      "23\n",
      "False\n",
      "-46\n"
     ]
    }
   ],
   "source": [
    "# operators --->> used for to do the operation (solution) on opearands( data)\n",
    "#Basec on Operands \n",
    "'''\n",
    "1. unary operator( single operand)\n",
    "    1. unary minus --->> -\n",
    "    2. unaru plus  --->> +\n",
    "    3. logical not --->> not\n",
    "    4. Bitwise not --->> ~\n",
    "\n",
    "2. Binary Operator( two operands)\n",
    "    1. addition\n",
    "    2. subtraction\n",
    "    3. all comparision operator\n",
    "'''\n",
    "# examples on unary operators\n",
    "print  -34   # -34\n",
    "print  +23   # 23\n",
    "print not 23 # False\n",
    "print ~45 #  -46"
   ]
  },
  {
   "cell_type": "code",
   "execution_count": 2,
   "metadata": {},
   "outputs": [
    {
     "name": "stdout",
     "output_type": "stream",
     "text": [
      "68\n",
      "22\n",
      "10\n",
      "True\n"
     ]
    }
   ],
   "source": [
    "# examples on binary operators\n",
    "print  23+45\n",
    "print 45 - 23\n",
    "print 2*5\n",
    "print 12 <  45"
   ]
  },
  {
   "cell_type": "code",
   "execution_count": 3,
   "metadata": {},
   "outputs": [
    {
     "name": "stdout",
     "output_type": "stream",
     "text": [
      "15\n",
      "11\n",
      "26\n",
      "6\n",
      "1\n",
      "169\n"
     ]
    }
   ],
   "source": [
    "# Based on the operations \n",
    "'''\n",
    "1. arithmetic operators\n",
    "2. relational operators\n",
    "3. assignment operators\n",
    "4. special operators\n",
    "5. Logical Operators\n",
    "6. Bitwise operators\n",
    "'''\n",
    "# arithmetic operators\n",
    "'''\n",
    "--->> addition       +\n",
    "--->> suntraction    -\n",
    "--->> multiplication *\n",
    "--->> division       /\n",
    "--->> modulus        %\n",
    "--->> exponant       **\n",
    "--->> floor division //\n",
    "'''\n",
    "print 13 + 2\n",
    "print 13 -2\n",
    "print 13 * 2\n",
    "print 13 /2 # 6\n",
    "print 13 % 2 #1\n",
    "print 13 ** 2 # 169"
   ]
  },
  {
   "cell_type": "code",
   "execution_count": 4,
   "metadata": {},
   "outputs": [
    {
     "name": "stdout",
     "output_type": "stream",
     "text": [
      "15.0\n",
      "11.0\n",
      "26.0\n",
      "6.5\n",
      "1.0\n",
      "169.0\n"
     ]
    }
   ],
   "source": [
    "print 13.0 + 2\n",
    "print 13.0 -2\n",
    "print 13.0 * 2\n",
    "print 13.0 /2 # 6\n",
    "print 13.0 % 2 #1\n",
    "print 13.0 ** 2 # 169"
   ]
  },
  {
   "cell_type": "code",
   "execution_count": 5,
   "metadata": {},
   "outputs": [
    {
     "name": "stdout",
     "output_type": "stream",
     "text": [
      "6\n",
      "6\n",
      "*****\n",
      "6.5\n",
      "6.0\n"
     ]
    }
   ],
   "source": [
    "print 13/ 2\n",
    "print 13 // 2\n",
    "print \"*****\"\n",
    "print 13.0/ 2\n",
    "print 13.0 // 2"
   ]
  },
  {
   "cell_type": "code",
   "execution_count": 6,
   "metadata": {},
   "outputs": [
    {
     "name": "stdout",
     "output_type": "stream",
     "text": [
      "enter rad in meter: 5\n",
      "area :  78.5714285714 sq . m\n",
      "peri :  31.4285714286  meters\n"
     ]
    }
   ],
   "source": [
    "# wap find the area  & perimeter of circle \n",
    "rad = input(\"enter rad in meter: \")\n",
    "pi = 22.0/7\n",
    "area = pi*(rad ** 2)\n",
    "peri = 2*pi*rad\n",
    "print \"area : \", area,\"sq . m\"\n",
    "print \"peri : \",peri,\" meters\""
   ]
  },
  {
   "cell_type": "code",
   "execution_count": null,
   "metadata": {},
   "outputs": [],
   "source": [
    "# wap find the area & perimeter of sqaure \n",
    "# wap find the area & perimeter of rectangle\n",
    "# wap find the area & volume of cube\n",
    "# wap find the area & voume of room\n",
    "# wap find the area & voume of cylender\n",
    "# wap find the simple intrest & total amount \n",
    "# wap convert radians to degrees & degrees to radians\n"
   ]
  }
 ],
 "metadata": {
  "kernelspec": {
   "display_name": "Python 2",
   "language": "python",
   "name": "python2"
  },
  "language_info": {
   "codemirror_mode": {
    "name": "ipython",
    "version": 2
   },
   "file_extension": ".py",
   "mimetype": "text/x-python",
   "name": "python",
   "nbconvert_exporter": "python",
   "pygments_lexer": "ipython2",
   "version": "2.7.16"
  }
 },
 "nbformat": 4,
 "nbformat_minor": 2
}
