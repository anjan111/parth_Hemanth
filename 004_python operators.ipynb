{
 "cells": [
  {
   "cell_type": "code",
   "execution_count": 1,
   "metadata": {},
   "outputs": [
    {
     "name": "stdout",
     "output_type": "stream",
     "text": [
      "-34\n",
      "23\n",
      "False\n",
      "-46\n"
     ]
    }
   ],
   "source": [
    "# operators --->> used for to do the operation (solution) on opearands( data)\n",
    "#Basec on Operands \n",
    "'''\n",
    "1. unary operator( single operand)\n",
    "    1. unary minus --->> -\n",
    "    2. unaru plus  --->> +\n",
    "    3. logical not --->> not\n",
    "    4. Bitwise not --->> ~\n",
    "\n",
    "2. Binary Operator( two operands)\n",
    "    1. addition\n",
    "    2. subtraction\n",
    "    3. all comparision operator\n",
    "'''\n",
    "# examples on unary operators\n",
    "print  -34   # -34\n",
    "print  +23   # 23\n",
    "print not 23 # False\n",
    "print ~45 #  -46"
   ]
  },
  {
   "cell_type": "code",
   "execution_count": 2,
   "metadata": {},
   "outputs": [
    {
     "name": "stdout",
     "output_type": "stream",
     "text": [
      "68\n",
      "22\n",
      "10\n",
      "True\n"
     ]
    }
   ],
   "source": [
    "# examples on binary operators\n",
    "print  23+45\n",
    "print 45 - 23\n",
    "print 2*5\n",
    "print 12 <  45"
   ]
  },
  {
   "cell_type": "code",
   "execution_count": 3,
   "metadata": {},
   "outputs": [
    {
     "name": "stdout",
     "output_type": "stream",
     "text": [
      "15\n",
      "11\n",
      "26\n",
      "6\n",
      "1\n",
      "169\n"
     ]
    }
   ],
   "source": [
    "# Based on the operations \n",
    "'''\n",
    "1. arithmetic operators\n",
    "2. relational operators\n",
    "3. assignment operators\n",
    "4. special operators\n",
    "5. Logical Operators\n",
    "6. Bitwise operators\n",
    "'''\n",
    "# arithmetic operators\n",
    "'''\n",
    "--->> addition       +\n",
    "--->> suntraction    -\n",
    "--->> multiplication *\n",
    "--->> division       /\n",
    "--->> modulus        %\n",
    "--->> exponant       **\n",
    "--->> floor division //\n",
    "'''\n",
    "print 13 + 2\n",
    "print 13 -2\n",
    "print 13 * 2\n",
    "print 13 /2 # 6\n",
    "print 13 % 2 #1\n",
    "print 13 ** 2 # 169"
   ]
  },
  {
   "cell_type": "code",
   "execution_count": 4,
   "metadata": {},
   "outputs": [
    {
     "name": "stdout",
     "output_type": "stream",
     "text": [
      "15.0\n",
      "11.0\n",
      "26.0\n",
      "6.5\n",
      "1.0\n",
      "169.0\n"
     ]
    }
   ],
   "source": [
    "print 13.0 + 2\n",
    "print 13.0 -2\n",
    "print 13.0 * 2\n",
    "print 13.0 /2 # 6\n",
    "print 13.0 % 2 #1\n",
    "print 13.0 ** 2 # 169"
   ]
  },
  {
   "cell_type": "code",
   "execution_count": 5,
   "metadata": {},
   "outputs": [
    {
     "name": "stdout",
     "output_type": "stream",
     "text": [
      "6\n",
      "6\n",
      "*****\n",
      "6.5\n",
      "6.0\n"
     ]
    }
   ],
   "source": [
    "print 13/ 2\n",
    "print 13 // 2\n",
    "print \"*****\"\n",
    "print 13.0/ 2\n",
    "print 13.0 // 2"
   ]
  },
  {
   "cell_type": "code",
   "execution_count": 6,
   "metadata": {},
   "outputs": [
    {
     "name": "stdout",
     "output_type": "stream",
     "text": [
      "enter rad in meter: 5\n",
      "area :  78.5714285714 sq . m\n",
      "peri :  31.4285714286  meters\n"
     ]
    }
   ],
   "source": [
    "# wap find the area  & perimeter of circle \n",
    "rad = input(\"enter rad in meter: \")\n",
    "pi = 22.0/7\n",
    "area = pi*(rad ** 2)\n",
    "peri = 2*pi*rad\n",
    "print \"area : \", area,\"sq . m\"\n",
    "print \"peri : \",peri,\" meters\""
   ]
  },
  {
   "cell_type": "code",
   "execution_count": 1,
   "metadata": {},
   "outputs": [],
   "source": [
    "# wap find the area & perimeter of sqaure \n",
    "# wap find the area & perimeter of rectangle\n",
    "# wap find the area & volume of cube\n",
    "# wap find the surface  area & voume of room\n",
    "# wap find the area & voume of cylender\n",
    "# wap find the simple intrest & total amount \n",
    "# wap convert radians to degrees & degrees to radians\n"
   ]
  },
  {
   "cell_type": "code",
   "execution_count": 5,
   "metadata": {},
   "outputs": [
    {
     "name": "stdout",
     "output_type": "stream",
     "text": [
      "enter l : 15\n",
      "enter b : 20\n",
      "enter h : 56\n",
      "vol :  16800 c.m\n",
      "sur area :  4520 sq . m\n"
     ]
    }
   ],
   "source": [
    "# wap find the surface  area & voume of room\n",
    "l=input(\"enter l : \")\n",
    "b=input(\"enter b : \")\n",
    "h=input(\"enter h : \")\n",
    "vol = l*b*h\n",
    "area = 2*l*b + 2* l*h+2*h*b\n",
    "print \"vol : \",vol,\"c.m\"\n",
    "print \"sur area : \",area ,\"sq . m\""
   ]
  },
  {
   "cell_type": "code",
   "execution_count": 7,
   "metadata": {},
   "outputs": [
    {
     "name": "stdout",
     "output_type": "stream",
     "text": [
      "enter a : 45\n",
      "enter b : 56\n",
      "45  <  56  ===>>  True\n",
      "45  >  56  ===>>  False\n",
      "45  ==  56  ===>>  False\n",
      "45  !=  56  ===>>  True\n",
      "45  <=  56  ===>>  True\n",
      "45  >=  56  ===>>  False\n"
     ]
    }
   ],
   "source": [
    "# relational operators\n",
    "'''\n",
    "--->> to give the relationship between any operands \n",
    "--->> to use a conditions with in the conditional statements\n",
    "---->> to compare the any 2 inputs \n",
    "---->> the result is either True / False --->> relational operators\n",
    "'''\n",
    "# less than     <\n",
    "# greaterthan   >\n",
    "# equal too    ==\n",
    "# not equal   !=\n",
    "# lessthan or equal  <=\n",
    "# greaterthan or equal  >=\n",
    "a = input(\"enter a : \")\n",
    "b = input(\"enter b : \")\n",
    "print a, \" < \",b , \" ===>> \", a < b\n",
    "print a, \" > \",b , \" ===>> \", a > b\n",
    "print a, \" == \",b , \" ===>> \", a== b\n",
    "print a, \" != \",b , \" ===>> \", a != b\n",
    "print a, \" <= \",b , \" ===>> \", a <= b\n",
    "print a, \" >= \",b , \" ===>> \", a >= b"
   ]
  },
  {
   "cell_type": "code",
   "execution_count": 9,
   "metadata": {},
   "outputs": [
    {
     "name": "stdout",
     "output_type": "stream",
     "text": [
      "enter int : 45\n",
      "45  is even  False\n"
     ]
    }
   ],
   "source": [
    "# wap find the given number is even or not\n",
    "num = input(\"enter int : \")\n",
    "rem = num % 2\n",
    "print num,\" is even \", rem == 0"
   ]
  },
  {
   "cell_type": "code",
   "execution_count": 10,
   "metadata": {},
   "outputs": [
    {
     "name": "stdout",
     "output_type": "stream",
     "text": [
      "True\n",
      "False\n"
     ]
    }
   ],
   "source": [
    "# special operators\n",
    "##### membership operator\n",
    "'''\n",
    "--->> one element is available with in the group of elements \n",
    "\n",
    "in\n",
    "     True ---->> avaiable\n",
    "     False --->> not avaialble \n",
    "\n",
    "\n",
    "not in\n",
    "     True ---->>  not avaiable\n",
    "     False --->>  avaialble \n",
    "\n",
    "\n",
    "'''\n",
    "a = 10\n",
    "b = [45,23,90,10,34]\n",
    "c = 123\n",
    "print a in b # True\n",
    "print c in b # False"
   ]
  },
  {
   "cell_type": "code",
   "execution_count": 11,
   "metadata": {},
   "outputs": [
    {
     "name": "stdout",
     "output_type": "stream",
     "text": [
      "False\n",
      "True\n"
     ]
    }
   ],
   "source": [
    "a = 10\n",
    "b = [45,23,90,10,34]\n",
    "c = 123\n",
    "print a not in b # False\n",
    "print c not in b # True"
   ]
  },
  {
   "cell_type": "code",
   "execution_count": 12,
   "metadata": {},
   "outputs": [
    {
     "name": "stdout",
     "output_type": "stream",
     "text": [
      "True\n"
     ]
    }
   ],
   "source": [
    "# identity operator\n",
    "'''\n",
    "--->> which is used for checking the memory loc\n",
    "\n",
    "is \n",
    "    True ------>>>> same\n",
    "    False ---->>>>> different \n",
    "\n",
    "is not\n",
    "\n",
    "    True  ---->>>>> different \n",
    "    False  ------>>>> same\n",
    "'''\n",
    "a = [1,2,3,4]\n",
    "b = [1,2,3,4]\n",
    "print a == b"
   ]
  },
  {
   "cell_type": "code",
   "execution_count": 14,
   "metadata": {},
   "outputs": [
    {
     "name": "stdout",
     "output_type": "stream",
     "text": [
      "memory loc of a  :  87295432\n",
      "memory loc of b  :  87294920\n",
      "False\n",
      "True\n"
     ]
    }
   ],
   "source": [
    "a = [1,2,3,4]\n",
    "b = [1,2,3,4]\n",
    "print \"memory loc of a  : \",id(a)\n",
    "print \"memory loc of b  : \",id(b)\n",
    "print a is b\n",
    "print a is not b"
   ]
  },
  {
   "cell_type": "code",
   "execution_count": 15,
   "metadata": {},
   "outputs": [
    {
     "name": "stdout",
     "output_type": "stream",
     "text": [
      "memory loc of a  :  52593792\n",
      "memory loc of b  :  52593792\n",
      "True\n",
      "False\n"
     ]
    }
   ],
   "source": [
    "a = 45\n",
    "b = 45\n",
    "print \"memory loc of a  : \",id(a)\n",
    "print \"memory loc of b  : \",id(b)\n",
    "print a is b\n",
    "print a is not b"
   ]
  },
  {
   "cell_type": "code",
   "execution_count": 1,
   "metadata": {},
   "outputs": [
    {
     "name": "stdout",
     "output_type": "stream",
     "text": [
      "123\n",
      "123\n",
      "15132\n"
     ]
    }
   ],
   "source": [
    "# Assignment Operators ---->>>    =\n",
    "'''\n",
    "we can assign the data from right side to left side variable\n",
    "'''\n",
    "a = 123 # constant to variable\n",
    "b = a   # variable to variable\n",
    "c = 1*3+4/10+a*b # expression to variable\n",
    "print a\n",
    "print b\n",
    "print c"
   ]
  },
  {
   "cell_type": "code",
   "execution_count": 2,
   "metadata": {},
   "outputs": [
    {
     "name": "stdout",
     "output_type": "stream",
     "text": [
      "10\n",
      "20\n",
      "30\n",
      "20\n"
     ]
    }
   ],
   "source": [
    "# Compound assignment operator \n",
    "'''\n",
    "--->> 1st is do the operation\n",
    "--->> Then update the result t same variable\n",
    "'''\n",
    "a = 10\n",
    "b = 20\n",
    "print a\n",
    "print b\n",
    "a = a+ b # addition of a & b then update a \n",
    "print a\n",
    "print b"
   ]
  },
  {
   "cell_type": "code",
   "execution_count": 3,
   "metadata": {},
   "outputs": [
    {
     "name": "stdout",
     "output_type": "stream",
     "text": [
      "10\n",
      "20\n",
      "30\n",
      "20\n"
     ]
    }
   ],
   "source": [
    "# Compound assignment operator \n",
    "'''\n",
    "--->> 1st is do the operation\n",
    "--->> Then update the result t same variable\n",
    "'''\n",
    "a = 10\n",
    "b = 20\n",
    "print a\n",
    "print b\n",
    "a   +=   b          #a = a+ b # addition of a & b then update a \n",
    "print a\n",
    "print b"
   ]
  },
  {
   "cell_type": "code",
   "execution_count": 4,
   "metadata": {},
   "outputs": [
    {
     "name": "stdout",
     "output_type": "stream",
     "text": [
      "10\n",
      "20\n",
      "-10\n",
      "20\n"
     ]
    }
   ],
   "source": [
    "# Compound assignment operator \n",
    "'''\n",
    "--->> 1st is do the operation\n",
    "--->> Then update the result t same variable\n",
    "'''\n",
    "a = 10\n",
    "b = 20\n",
    "print a\n",
    "print b\n",
    "a   -=   b          #a = a  -  b # subtraction of a & b then update a \n",
    "print a\n",
    "print b"
   ]
  },
  {
   "cell_type": "code",
   "execution_count": 5,
   "metadata": {},
   "outputs": [
    {
     "name": "stdout",
     "output_type": "stream",
     "text": [
      "10\n",
      "20\n",
      "200\n",
      "20\n"
     ]
    }
   ],
   "source": [
    "# Compound assignment operator \n",
    "'''\n",
    "--->> 1st is do the operation\n",
    "--->> Then update the result t same variable\n",
    "'''\n",
    "a = 10\n",
    "b = 20\n",
    "print a\n",
    "print b\n",
    "a   *=   b          #a = a* b # multiplication of a & b then update a \n",
    "print a\n",
    "print b"
   ]
  },
  {
   "cell_type": "code",
   "execution_count": 6,
   "metadata": {},
   "outputs": [
    {
     "name": "stdout",
     "output_type": "stream",
     "text": [
      "10\n",
      "20\n",
      "0\n",
      "20\n"
     ]
    }
   ],
   "source": [
    "# Compound assignment operator \n",
    "'''\n",
    "--->> 1st is do the operation\n",
    "--->> Then update the result t same variable\n",
    "'''\n",
    "a = 10\n",
    "b = 20\n",
    "print a\n",
    "print b\n",
    "a   /=   b          #a = a /  b # division of a & b then update a \n",
    "print a\n",
    "print b"
   ]
  },
  {
   "cell_type": "code",
   "execution_count": 7,
   "metadata": {},
   "outputs": [
    {
     "name": "stdout",
     "output_type": "stream",
     "text": [
      "False\n",
      "True\n",
      "False\n"
     ]
    }
   ],
   "source": [
    "####boolean daata  --->>> True  / False\n",
    "#####  representation each datatype with boolean \n",
    "### int ---->>     0  --->> False   , +ve / -ve ---->> True\n",
    "### float -->>     0.0 -->> False   , +ve / -ve ---->> True\n",
    "### complex -->   0 +0j --> False   , +ve /-ve  ---->> True\n",
    "### None   --->>>>  False\n",
    "### str    --->>>> len -> 0 -->> False  , ow ----->. True\n",
    "### list   --->>>> len -> 0 -->> False  , ow ----->. True\n",
    "### tuple  --->>>> len -> 0 -->> False  , ow ----->. True\n",
    "### set    --->>>> len -> 0 -->> False  , ow ----->. True\n",
    "### dict   --->>>> len -> 0 -->> False  , ow ----->. True\n",
    "\n",
    "\n",
    "#### Logical Operators are operating based on the logic\n",
    "'''\n",
    "1. Logica AND ---->>>>  and\n",
    "2. Logical OR ---->>>>  or\n",
    "3. Logical NOT ---->>>   not\n",
    "  \n",
    "\n",
    "'''\n",
    "# Logical NOT --->> not\n",
    "'''\n",
    "not   input --->>> True   / False\n",
    "\n",
    "True  ---->> input is False case\n",
    "False ---->> input is True case\n",
    "\n",
    "'''\n",
    "print  not 56\n",
    "print not []\n",
    "print not \"   \"\n"
   ]
  },
  {
   "cell_type": "code",
   "execution_count": 1,
   "metadata": {},
   "outputs": [
    {
     "name": "stdout",
     "output_type": "stream",
     "text": [
      "56\n",
      "[]\n",
      "56\n",
      "\n",
      "78\n"
     ]
    }
   ],
   "source": [
    "# Logical AND ---->> and \n",
    "'''\n",
    "inpu1   and   input2  --->>  input1 / input2\n",
    "\n",
    "input 1  <---   if inpu1 is False case\n",
    "\n",
    "input 2  <----  if input1 is True case\n",
    "\n",
    "'''\n",
    "print   45 and 56\n",
    "print   [] and 56\n",
    "print  \" \" and 56\n",
    "print \"\" and 56\n",
    "print [1,3] and 78"
   ]
  },
  {
   "cell_type": "code",
   "execution_count": 2,
   "metadata": {},
   "outputs": [
    {
     "name": "stdout",
     "output_type": "stream",
     "text": [
      "45\n",
      "56\n",
      " \n",
      "56\n",
      "[1, 3]\n"
     ]
    }
   ],
   "source": [
    "# Logical OR ---->>  or\n",
    "'''\n",
    "inpu1   or   input2  --->>  input1 / input2\n",
    "\n",
    "input 1  <---   if inpu1 is True case\n",
    "\n",
    "input 2  <----  if input1 is False case\n",
    "\n",
    "'''\n",
    "print   45 or 56\n",
    "print   [] or 56\n",
    "print  \" \" or 56\n",
    "print \"\"  or 56\n",
    "print [1,3] or 78"
   ]
  },
  {
   "cell_type": "code",
   "execution_count": 2,
   "metadata": {},
   "outputs": [
    {
     "name": "stdout",
     "output_type": "stream",
     "text": [
      "29\n",
      "58\n"
     ]
    }
   ],
   "source": [
    "#bitwise operator\n",
    "'''\n",
    "--->> Which are operating on binary data of given inputs\n",
    "1. bitwise AND\n",
    "2. bitwise OR\n",
    "3. bitwise XOR\n",
    "4. bitwise NOT\n",
    "5. bitwise Leftshift\n",
    "6. bitwise Rightshift\n",
    "'''\n",
    "# The operation procedure\n",
    "'''\n",
    "1. inputs decimal ------>>> binary inputs\n",
    "2. We have do the operation on binary daata --->> we will get binary result\n",
    "3. Binary result -------->>> Decimal Result \n",
    "'''\n",
    "# bitwise or  |\n",
    "print 17 | 13\n",
    "print 34 | 56"
   ]
  },
  {
   "cell_type": "code",
   "execution_count": 4,
   "metadata": {},
   "outputs": [
    {
     "name": "stdout",
     "output_type": "stream",
     "text": [
      "1\n",
      "32\n"
     ]
    }
   ],
   "source": [
    "# bitwise and  &\n",
    "print 17 & 13\n",
    "print 34 & 56"
   ]
  },
  {
   "cell_type": "code",
   "execution_count": 5,
   "metadata": {},
   "outputs": [
    {
     "name": "stdout",
     "output_type": "stream",
     "text": [
      "28\n",
      "26\n"
     ]
    }
   ],
   "source": [
    "# bitwise XOR  ^\n",
    "print 17 ^ 13\n",
    "print 34 ^ 56"
   ]
  },
  {
   "cell_type": "code",
   "execution_count": 7,
   "metadata": {},
   "outputs": [
    {
     "name": "stdout",
     "output_type": "stream",
     "text": [
      "80\n",
      "68\n"
     ]
    }
   ],
   "source": [
    "print 10 << 3\n",
    "print 17 <<  2"
   ]
  },
  {
   "cell_type": "code",
   "execution_count": null,
   "metadata": {},
   "outputs": [],
   "source": [
    "#  >> \n",
    "#  ~"
   ]
  }
 ],
 "metadata": {
  "kernelspec": {
   "display_name": "Python 2",
   "language": "python",
   "name": "python2"
  },
  "language_info": {
   "codemirror_mode": {
    "name": "ipython",
    "version": 2
   },
   "file_extension": ".py",
   "mimetype": "text/x-python",
   "name": "python",
   "nbconvert_exporter": "python",
   "pygments_lexer": "ipython2",
   "version": "2.7.16"
  }
 },
 "nbformat": 4,
 "nbformat_minor": 2
}
