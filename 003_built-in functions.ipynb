{
 "cells": [
  {
   "cell_type": "code",
   "execution_count": 1,
   "metadata": {},
   "outputs": [
    {
     "name": "stdout",
     "output_type": "stream",
     "text": [
      "enter int : 123\n",
      "data :  123\n",
      "<type 'int'>\n",
      "memory loc :  46304448\n"
     ]
    }
   ],
   "source": [
    "# input() --->> to read the data from kweyword\n",
    "# print  --->> to display the data\n",
    "# type() --->> to know the daatatype\n",
    "# id() ----->> to know the memory loc of any variable\n",
    "# wap read int and display the data, memory , datatype\n",
    "var = input(\"enter int : \")\n",
    "print \"data : \",var\n",
    "print type(var)\n",
    "print \"memory loc : \",id(var)"
   ]
  },
  {
   "cell_type": "code",
   "execution_count": 2,
   "metadata": {},
   "outputs": [
    {
     "name": "stdout",
     "output_type": "stream",
     "text": [
      "enter float: 12.3423\n",
      "data :  12.3423\n",
      "<type 'float'>\n",
      "memory loc :  72552536\n"
     ]
    }
   ],
   "source": [
    "# wap read float and display the data, memory , datatype\n",
    "var = input(\"enter float: \")\n",
    "print \"data : \",var\n",
    "print type(var)\n",
    "print \"memory loc : \",id(var)"
   ]
  },
  {
   "cell_type": "code",
   "execution_count": 3,
   "metadata": {},
   "outputs": [
    {
     "name": "stdout",
     "output_type": "stream",
     "text": [
      "enter complex : 2+2j\n",
      "data :  (2+2j)\n",
      "<type 'complex'>\n",
      "memory loc :  73840624\n"
     ]
    }
   ],
   "source": [
    "# wap read complex and display the data, memory , datatype\n",
    "var = input(\"enter complex : \")\n",
    "print \"data : \",var\n",
    "print type(var)\n",
    "print \"memory loc : \",id(var)"
   ]
  },
  {
   "cell_type": "code",
   "execution_count": null,
   "metadata": {},
   "outputs": [],
   "source": [
    "# wap read bool and display the data, memory , datatype\n",
    "# wap read Nonetype and display the data, memory , datatype\n",
    "# wap read str and display the data, memory , datatype\n",
    "# wap read list and display the data, memory , datatype\n",
    "# wap read tuple and display the data, memory , datatype\n",
    "# wap read set and display the data, memory , datatype\n",
    "# wap read dict and display the data, memory , datatype"
   ]
  },
  {
   "cell_type": "code",
   "execution_count": 4,
   "metadata": {},
   "outputs": [
    {
     "name": "stdout",
     "output_type": "stream",
     "text": [
      "enter int : 123\n",
      "data :  123\n",
      "<type 'str'>\n",
      "memory loc :  79920624\n"
     ]
    }
   ],
   "source": [
    "# raw_input() --->> to read the data from keyboard\n",
    "# wap read int and display the data, memory , datatype\n",
    "var = raw_input(\"enter int : \")\n",
    "print \"data : \",var\n",
    "print type(var)\n",
    "print \"memory loc : \",id(var)"
   ]
  },
  {
   "cell_type": "code",
   "execution_count": 5,
   "metadata": {},
   "outputs": [
    {
     "name": "stdout",
     "output_type": "stream",
     "text": [
      "enter float : 2.343\n",
      "data :  2.343\n",
      "<type 'str'>\n",
      "memory loc :  79917784\n"
     ]
    }
   ],
   "source": [
    "# wap read float and display the data, memory , datatype\n",
    "var = raw_input(\"enter float : \")\n",
    "print \"data : \",var\n",
    "print type(var)\n",
    "print \"memory loc : \",id(var)"
   ]
  },
  {
   "cell_type": "code",
   "execution_count": 6,
   "metadata": {},
   "outputs": [
    {
     "name": "stdout",
     "output_type": "stream",
     "text": [
      "enter complex : 4+3j\n",
      "data :  4+3j\n",
      "<type 'str'>\n",
      "memory loc :  79919664\n"
     ]
    }
   ],
   "source": [
    "# wap read complex and display the data, memory , datatype\n",
    "var = raw_input(\"enter complex : \")\n",
    "print \"data : \",var\n",
    "print type(var)\n",
    "print \"memory loc : \",id(var)"
   ]
  },
  {
   "cell_type": "code",
   "execution_count": null,
   "metadata": {},
   "outputs": [],
   "source": [
    "# wap read bool and display the data, memory , datatype\n",
    "# wap read Nonetype and display the data, memory , datatype\n",
    "# wap read str and display the data, memory , datatype\n",
    "# wap read list and display the data, memory , datatype\n",
    "# wap read tuple and display the data, memory , datatype\n",
    "# wap read set and display the data, memory , datatype\n",
    "# wap read dict and display the data, memory , datatype"
   ]
  },
  {
   "cell_type": "code",
   "execution_count": 7,
   "metadata": {},
   "outputs": [
    {
     "name": "stdout",
     "output_type": "stream",
     "text": [
      "enter int : 123\n",
      "<type 'int'>\n",
      "enter int : 123\n",
      "<type 'str'>\n"
     ]
    }
   ],
   "source": [
    "# wap difference between input & raw_input\n",
    "var = input(\"enter int : \")\n",
    "print type(var)\n",
    "var = raw_input(\"enter int : \")\n",
    "print type(var)"
   ]
  },
  {
   "cell_type": "code",
   "execution_count": 8,
   "metadata": {},
   "outputs": [
    {
     "name": "stdout",
     "output_type": "stream",
     "text": [
      "enter int : 45\n",
      "enter int : 45\n",
      "4545\n"
     ]
    }
   ],
   "source": [
    "# wap addition of two numbers\n",
    "a = raw_input(\"enter int : \")\n",
    "b = raw_input(\"enter int : \")\n",
    "print a+b"
   ]
  },
  {
   "cell_type": "code",
   "execution_count": 10,
   "metadata": {},
   "outputs": [
    {
     "name": "stdout",
     "output_type": "stream",
     "text": [
      "enter int : 789\n",
      "789\n",
      "<type 'str'>\n",
      "789\n",
      "<type 'int'>\n"
     ]
    }
   ],
   "source": [
    "# daatatype conversion ffunctions\n",
    "'''\n",
    "# raw_input() -->> int  --->> str daatatype --->> int() -->> int\n",
    "# raw_input() -->> float  --->> str daatatype --->> float() -->> float\n",
    "# raw_input() -->> complex  --->> str daatatype --->> complex() -->> complex\n",
    "# raw_input() -->> bool  --->> str daatatype --->> str() -->> str\n",
    "# raw_input() -->> list  --->> str daatatype --->> list() -->> list\n",
    "# raw_input() -->> tuple  --->> str daatatype --->> tuple() -->> tuple\n",
    "# raw_input() -->> set  --->> str daatatype --->> set() -->> set\n",
    "# raw_input() -->> dict  --->> str daatatype --->> dict() -->> dict\n",
    "'''\n",
    "# read int by raw_input and then converts to int \n",
    "var = raw_input(\"enter int : \")\n",
    "print var\n",
    "print type(var)\n",
    "var = int(var)\n",
    "print var\n",
    "print type(var)"
   ]
  },
  {
   "cell_type": "code",
   "execution_count": null,
   "metadata": {},
   "outputs": [],
   "source": [
    "# read float by raw_input and then converts to int \n",
    "# read complex by raw_input and then converts to complex \n",
    "# read bool by raw_input and then converts to bool\n",
    "# read list by raw_input and then converts to list\n",
    "# read tuple by raw_input and then converts to tuple \n",
    "# read set by raw_input and then converts to set\n",
    "# read dict by raw_input and then converts to dict"
   ]
  },
  {
   "cell_type": "code",
   "execution_count": null,
   "metadata": {},
   "outputs": [],
   "source": [
    "# python operator"
   ]
  }
 ],
 "metadata": {
  "kernelspec": {
   "display_name": "Python 2",
   "language": "python",
   "name": "python2"
  },
  "language_info": {
   "codemirror_mode": {
    "name": "ipython",
    "version": 2
   },
   "file_extension": ".py",
   "mimetype": "text/x-python",
   "name": "python",
   "nbconvert_exporter": "python",
   "pygments_lexer": "ipython2",
   "version": "2.7.16"
  }
 },
 "nbformat": 4,
 "nbformat_minor": 2
}
